{
 "cells": [
  {
   "cell_type": "code",
   "execution_count": 10,
   "id": "c26a1c5f",
   "metadata": {},
   "outputs": [],
   "source": [
    "import numpy as np\n",
    "import pandas as pd\n",
    "import plotly.express as px\n",
    "\n",
    "import json"
   ]
  },
  {
   "cell_type": "code",
   "execution_count": 11,
   "id": "71142753",
   "metadata": {},
   "outputs": [],
   "source": [
    "df_train = pd.read_parquet(\"datasets/binned_train.parquet\")\n",
    "df_test = pd.read_parquet(\"datasets/binned_test.parquet\")"
   ]
  },
  {
   "cell_type": "code",
   "execution_count": 12,
   "id": "19372119",
   "metadata": {},
   "outputs": [
    {
     "data": {
      "text/html": [
       "<div>\n",
       "<style scoped>\n",
       "    .dataframe tbody tr th:only-of-type {\n",
       "        vertical-align: middle;\n",
       "    }\n",
       "\n",
       "    .dataframe tbody tr th {\n",
       "        vertical-align: top;\n",
       "    }\n",
       "\n",
       "    .dataframe thead th {\n",
       "        text-align: right;\n",
       "    }\n",
       "</style>\n",
       "<table border=\"1\" class=\"dataframe\">\n",
       "  <thead>\n",
       "    <tr style=\"text-align: right;\">\n",
       "      <th></th>\n",
       "      <th>Opening</th>\n",
       "      <th>ECO</th>\n",
       "    </tr>\n",
       "  </thead>\n",
       "  <tbody>\n",
       "    <tr>\n",
       "      <th>0</th>\n",
       "      <td>Vienna Game: Stanley Variation</td>\n",
       "      <td>C26</td>\n",
       "    </tr>\n",
       "    <tr>\n",
       "      <th>1</th>\n",
       "      <td>French Defense: Schlechter Variation</td>\n",
       "      <td>C00</td>\n",
       "    </tr>\n",
       "    <tr>\n",
       "      <th>2</th>\n",
       "      <td>Sicilian Defense: Old Sicilian</td>\n",
       "      <td>B30</td>\n",
       "    </tr>\n",
       "    <tr>\n",
       "      <th>3</th>\n",
       "      <td>Caro-Kann Defense: MarÃ³czy Variation</td>\n",
       "      <td>B12</td>\n",
       "    </tr>\n",
       "    <tr>\n",
       "      <th>4</th>\n",
       "      <td>Duras Gambit</td>\n",
       "      <td>B00</td>\n",
       "    </tr>\n",
       "    <tr>\n",
       "      <th>5</th>\n",
       "      <td>Russian Game</td>\n",
       "      <td>C42</td>\n",
       "    </tr>\n",
       "    <tr>\n",
       "      <th>6</th>\n",
       "      <td>King's Indian Defense: Smyslov Variation</td>\n",
       "      <td>E61</td>\n",
       "    </tr>\n",
       "    <tr>\n",
       "      <th>7</th>\n",
       "      <td>Caro-Kann Defense: Advance Variation, Botvinni...</td>\n",
       "      <td>B12</td>\n",
       "    </tr>\n",
       "    <tr>\n",
       "      <th>8</th>\n",
       "      <td>Queen's Pawn Game: Mason Variation</td>\n",
       "      <td>D00</td>\n",
       "    </tr>\n",
       "    <tr>\n",
       "      <th>9</th>\n",
       "      <td>Owen Defense</td>\n",
       "      <td>B00</td>\n",
       "    </tr>\n",
       "  </tbody>\n",
       "</table>\n",
       "</div>"
      ],
      "text/plain": [
       "                                             Opening  ECO\n",
       "0                     Vienna Game: Stanley Variation  C26\n",
       "1               French Defense: Schlechter Variation  C00\n",
       "2                     Sicilian Defense: Old Sicilian  B30\n",
       "3              Caro-Kann Defense: MarÃ³czy Variation  B12\n",
       "4                                       Duras Gambit  B00\n",
       "5                                       Russian Game  C42\n",
       "6           King's Indian Defense: Smyslov Variation  E61\n",
       "7  Caro-Kann Defense: Advance Variation, Botvinni...  B12\n",
       "8                 Queen's Pawn Game: Mason Variation  D00\n",
       "9                                       Owen Defense  B00"
      ]
     },
     "execution_count": 12,
     "metadata": {},
     "output_type": "execute_result"
    }
   ],
   "source": [
    "df_train[[\"Opening\", \"ECO\"]].head(10)"
   ]
  },
  {
   "cell_type": "code",
   "execution_count": null,
   "id": "f7b792ba",
   "metadata": {},
   "outputs": [],
   "source": []
  },
  {
   "cell_type": "markdown",
   "id": "af8ea437",
   "metadata": {},
   "source": [
    "## Mean Encoding"
   ]
  },
  {
   "cell_type": "code",
   "execution_count": 13,
   "id": "1eecd71c",
   "metadata": {},
   "outputs": [],
   "source": [
    "opening_features = [\"Opening\", \"ECO\"]\n",
    "for feature in opening_features:\n",
    "    \n",
    "    # Распространенные дебюты\n",
    "    common_openings = (\n",
    "        df_train[feature]\n",
    "        .value_counts()\n",
    "        .where(lambda x: x >= 100).dropna()\n",
    "        .index\n",
    "    )\n",
    "    \n",
    "    # Считаем средние\n",
    "    means_dict = (\n",
    "        df_train\n",
    "        .groupby(feature)\n",
    "        .agg({\"Elo\": \"mean\"})\n",
    "        .loc[common_openings]\n",
    "        .squeeze().to_dict()\n",
    "    )\n",
    "    \n",
    "    # Среднее для редких\n",
    "    mean_if_rare = df_train[\"Elo\"].where(\n",
    "        ~df_train[feature].isin(common_openings)\n",
    "    ).mean()\n",
    "    \n",
    "    # Применяем\n",
    "    df_train[feature] = (\n",
    "        df_train[feature]\n",
    "        .map(means_dict)\n",
    "        .fillna(mean_if_rare)\n",
    "    )\n",
    "    \n",
    "    df_test[feature] = (\n",
    "        df_test[feature]\n",
    "        .map(means_dict)\n",
    "        .fillna(mean_if_rare)\n",
    "    )"
   ]
  },
  {
   "cell_type": "code",
   "execution_count": null,
   "id": "6dd89686",
   "metadata": {},
   "outputs": [],
   "source": []
  },
  {
   "cell_type": "code",
   "execution_count": 14,
   "id": "4614a6e0",
   "metadata": {},
   "outputs": [],
   "source": [
    "df_train.to_parquet(\"datasets/final_train.parquet\")\n",
    "df_test.to_parquet(\"datasets/final_test.parquet\")"
   ]
  },
  {
   "cell_type": "code",
   "execution_count": null,
   "id": "d1ceafc2",
   "metadata": {},
   "outputs": [],
   "source": []
  },
  {
   "cell_type": "code",
   "execution_count": null,
   "id": "283ca72a",
   "metadata": {},
   "outputs": [],
   "source": []
  },
  {
   "cell_type": "markdown",
   "id": "a853e0a4",
   "metadata": {},
   "source": [
    "## Корзина"
   ]
  },
  {
   "cell_type": "code",
   "execution_count": 15,
   "id": "2401b0f8",
   "metadata": {},
   "outputs": [],
   "source": [
    "# df_train[\"OpeningType\"] = df_train[\"Opening\"].str.split(\":\", expand=True)[0]\n",
    "# df_train[\"ECOType\"] = df_train[\"ECO\"].str[:2]"
   ]
  },
  {
   "cell_type": "code",
   "execution_count": null,
   "id": "8b82244e",
   "metadata": {},
   "outputs": [],
   "source": []
  },
  {
   "cell_type": "code",
   "execution_count": null,
   "id": "dd00a723",
   "metadata": {},
   "outputs": [],
   "source": []
  }
 ],
 "metadata": {
  "kernelspec": {
   "display_name": "Python 3 (ipykernel)",
   "language": "python",
   "name": "python3"
  },
  "language_info": {
   "codemirror_mode": {
    "name": "ipython",
    "version": 3
   },
   "file_extension": ".py",
   "mimetype": "text/x-python",
   "name": "python",
   "nbconvert_exporter": "python",
   "pygments_lexer": "ipython3",
   "version": "3.9.13"
  }
 },
 "nbformat": 4,
 "nbformat_minor": 5
}
