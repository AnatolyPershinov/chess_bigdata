{
 "cells": [
  {
   "cell_type": "code",
   "execution_count": null,
   "id": "b3776d0d",
   "metadata": {},
   "outputs": [],
   "source": [
    "import numpy as np\n",
    "import pandas as pd\n",
    "\n",
    "import plotly.express as px\n",
    "import plotly.graph_objects as go\n",
    "\n",
    "from sklearn.metrics import mean_absolute_error, r2_score\n",
    "\n",
    "import tensorflow as tf\n",
    "\n",
    "SEED = 1660"
   ]
  },
  {
   "cell_type": "code",
   "execution_count": null,
   "id": "9b3f7b95",
   "metadata": {},
   "outputs": [],
   "source": [
    "df_train = pd.read_parquet(\"datasets/final_train.parquet\")\n",
    "df_test = pd.read_parquet(\"datasets/final_test.parquet\")\n",
    "\n",
    "X_train = df_train.drop(columns=[\"GameID\", \"Elo\"])\n",
    "Y_train = df_train[\"Elo\"]\n",
    "\n",
    "X_test = df_test.drop(columns=[\"GameID\", \"Elo\"])\n",
    "Y_test = df_test[\"Elo\"]\n",
    "\n",
    "mean, std = X_train.mean(), X_train.std()\n",
    "X_train = (X_train - mean) / std\n",
    "X_test = (X_test - mean) / std\n",
    "\n",
    "mean, std = Y_train.mean(), Y_train.std()\n",
    "Y_train = (Y_train - mean) / std\n",
    "Y_test = (Y_test - mean) / std\n",
    "\n",
    "X_train.shape, X_test.shape"
   ]
  },
  {
   "cell_type": "code",
   "execution_count": null,
   "id": "9bd37bc2",
   "metadata": {},
   "outputs": [],
   "source": []
  },
  {
   "cell_type": "code",
   "execution_count": null,
   "id": "f9e24276",
   "metadata": {},
   "outputs": [],
   "source": []
  },
  {
   "cell_type": "code",
   "execution_count": null,
   "id": "bf01dba4",
   "metadata": {},
   "outputs": [],
   "source": [
    "model = tf.keras.models.Sequential([\n",
    "    tf.keras.layers.Dense(units=10),\n",
    "    tf.keras.layers.Dense(units=1)\n",
    "])\n",
    "\n",
    "model.compile(\n",
    "    optimizer=tf.keras.optimizers.Adam(0.05),\n",
    "    loss='mean_absolute_error'\n",
    ")\n",
    "\n",
    "history = model.fit(\n",
    "    X_train, Y_train,\n",
    "    epochs=2,\n",
    "    validation_split=0.2\n",
    ")"
   ]
  },
  {
   "cell_type": "code",
   "execution_count": null,
   "id": "52496caa",
   "metadata": {},
   "outputs": [],
   "source": [
    "history_df = pd.DataFrame(history.history).assign(epoch=history.epoch).set_index('epoch')"
   ]
  },
  {
   "cell_type": "code",
   "execution_count": null,
   "id": "cfb1144e",
   "metadata": {},
   "outputs": [],
   "source": [
    "px.line(\n",
    "    history_df,\n",
    "    template='plotly_dark'\n",
    ")"
   ]
  },
  {
   "cell_type": "code",
   "execution_count": null,
   "id": "8db134d6",
   "metadata": {},
   "outputs": [],
   "source": []
  },
  {
   "cell_type": "code",
   "execution_count": null,
   "id": "678e01b1",
   "metadata": {},
   "outputs": [],
   "source": []
  },
  {
   "cell_type": "code",
   "execution_count": null,
   "id": "ffe8fff1",
   "metadata": {},
   "outputs": [],
   "source": [
    "Y_hat = model.predict(X_test)[:, 0]"
   ]
  },
  {
   "cell_type": "code",
   "execution_count": null,
   "id": "dd07561d",
   "metadata": {},
   "outputs": [],
   "source": [
    "r2_score(Y_test, Y_hat) * 100"
   ]
  },
  {
   "cell_type": "code",
   "execution_count": null,
   "id": "2c5e13ed",
   "metadata": {},
   "outputs": [],
   "source": []
  },
  {
   "cell_type": "code",
   "execution_count": null,
   "id": "1c94c768",
   "metadata": {},
   "outputs": [],
   "source": []
  },
  {
   "cell_type": "code",
   "execution_count": null,
   "id": "2aa31652",
   "metadata": {},
   "outputs": [],
   "source": []
  },
  {
   "cell_type": "code",
   "execution_count": null,
   "id": "d93cde81",
   "metadata": {},
   "outputs": [],
   "source": []
  },
  {
   "cell_type": "code",
   "execution_count": null,
   "id": "4aa2133c",
   "metadata": {},
   "outputs": [],
   "source": []
  }
 ],
 "metadata": {
  "kernelspec": {
   "display_name": "Python 3 (ipykernel)",
   "language": "python",
   "name": "python3"
  },
  "language_info": {
   "codemirror_mode": {
    "name": "ipython",
    "version": 3
   },
   "file_extension": ".py",
   "mimetype": "text/x-python",
   "name": "python",
   "nbconvert_exporter": "python",
   "pygments_lexer": "ipython3",
   "version": "3.9.13"
  }
 },
 "nbformat": 4,
 "nbformat_minor": 5
}
