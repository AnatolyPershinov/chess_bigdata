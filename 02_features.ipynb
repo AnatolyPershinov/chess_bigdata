{
 "cells": [
  {
   "cell_type": "code",
   "execution_count": 3,
   "id": "615163c3",
   "metadata": {},
   "outputs": [],
   "source": [
    "import numpy as np\n",
    "import pandas as pd\n",
    "import plotly.express as px"
   ]
  },
  {
   "cell_type": "markdown",
   "id": "15c91cd3",
   "metadata": {},
   "source": [
    "## Добавляем признаки"
   ]
  },
  {
   "cell_type": "code",
   "execution_count": 4,
   "id": "6c5bfe6f",
   "metadata": {},
   "outputs": [],
   "source": [
    "def generate_features(df_games, df_moves):\n",
    "    \"\"\"Создает признаки\"\"\"\n",
    "    \n",
    "    # !Ошибки\n",
    "    df_moves[\"IsInaccuracy\"] = df_moves[\"Move\"].str.endswith(\"?!\")\n",
    "    df_moves[\"IsBlunder\"] = df_moves[\"Move\"].str.endswith(\"??\")\n",
    "    df_moves[\"IsMistake\"] = df_moves[\"Move\"].str.endswith(\"?\") & (~df_moves[\"Move\"].str.endswith(\"??\"))\n",
    "    df_moves[\"IsWrongMove\"] = df_moves[\"IsInaccuracy\"] | df_moves[\"IsBlunder\"] | df_moves[\"IsMistake\"]\n",
    "    df_moves[\"IsBadMove\"] = df_moves[\"IsBlunder\"] | df_moves[\"IsMistake\"]\n",
    "    df_moves[\"IsOkayMove\"] = ~(df_moves[\"IsInaccuracy\"] | df_moves[\"IsBlunder\"] | df_moves[\"IsMistake\"])\n",
    "    \n",
    "    # !Средний ход ошибок\n",
    "    df_moves[\"MoveNumberInaccuracy\"] = df_moves[\"MoveNumber\"].where(df_moves[\"IsInaccuracy\"])\n",
    "    df_moves[\"MoveNumberBlunder\"] = df_moves[\"MoveNumber\"].where(df_moves[\"IsBlunder\"])\n",
    "    df_moves[\"MoveNumberMistake\"] = df_moves[\"MoveNumber\"].where(df_moves[\"IsMistake\"])\n",
    "    df_moves[\"MoveNumberWrongMove\"] = df_moves[\"MoveNumber\"].where(df_moves[\"IsWrongMove\"])\n",
    "    df_moves[\"MoveNumberBadMove\"] = df_moves[\"MoveNumber\"].where(df_moves[\"IsBadMove\"])\n",
    "    df_moves[\"MoveNumberOkayMove\"] = df_moves[\"MoveNumber\"].where(df_moves[\"IsOkayMove\"])\n",
    "    \n",
    "    # !Маты\n",
    "    df_moves[\"MateIn\"] = df_moves[\"Eval\"].where(\n",
    "        df_moves[\"Eval\"].str.startswith(\"#\"),\n",
    "        \"#0\"\n",
    "    )\n",
    "    df_moves[\"MateIn\"] = df_moves[\"MateIn\"].str[1:].astype(float)\n",
    "    # Возьмем маты через 5 ходов\n",
    "    df_moves[\"HasMate\"] = (df_moves[\"MateIn\"].abs() >= 1) & (df_moves[\"MateIn\"].abs() <= 5)\n",
    "    \n",
    "    # !EVAL\n",
    "    df_moves[\"EvalCentipawn\"] = pd.to_numeric(df_moves[\"Eval\"], errors=\"coerce\").multiply(100).round()\n",
    "    # Обрежем оценку позиции на +- 12 пешек\n",
    "    df_moves[\"EvalCentipawn\"] = df_moves[\"EvalCentipawn\"].clip(-1200, 1200)\n",
    "    # Мат считаем как максимальное преимущество\n",
    "    df_moves.loc[df_moves[\"MateIn\"] > 0, \"EvalCentipawn\"] = 1200\n",
    "    df_moves.loc[df_moves[\"MateIn\"] < 0, \"EvalCentipawn\"] = -1200\n",
    "    \n",
    "    df_moves[\"AbsEval\"] = df_moves[\"EvalCentipawn\"].abs()\n",
    "    df_moves[\"IsEqualGame300\"] = df_moves[\"EvalCentipawn\"].abs() <= 300\n",
    "    df_moves[\"IsLostGame600\"] = df_moves[\"EvalCentipawn\"].abs() >= 600\n",
    "    \n",
    "    # !Diff\n",
    "    df_moves[\"CentipawnLoss\"] = df_moves[\"EvalCentipawn\"].diff().abs().fillna(0)\n",
    "    df_moves.loc[(df_moves[\"MoveNumber\"] == 1), \"CentipawnLoss\"] = 0\n",
    "    df_moves[\"StartCentipawnLoss15\"] = df_moves[\"CentipawnLoss\"].where(df_moves[\"MoveNumber\"] <= 15)\n",
    "    \n",
    "    # !Шахи\n",
    "    df_moves[\"IsCheck\"] = df_moves[\"Move\"].str.contains(\"+\", regex=False)\n",
    "    df_moves[\"IsCapture\"] = df_moves[\"Move\"].str.contains(\"x\", regex=False)\n",
    "    \n",
    "    # !В разрезе фигур и ходов\n",
    "    df_moves[\"Piece\"] = df_moves[\"Move\"].str[0]\n",
    "    df_moves[\"KnightCentipawnLoss\"] = df_moves[\"CentipawnLoss\"].where(df_moves[\"Piece\"] == \"N\")\n",
    "    df_moves[\"PawnCentipawnLoss\"] = df_moves[\"CentipawnLoss\"].where(df_moves[\"Piece\"].str.islower())\n",
    "    \n",
    "    # Лучший ход\n",
    "    df_moves[\"IsBestMove\"] = (df_moves[\"CentipawnLoss\"] == 0)\n",
    "    \n",
    "    # !Агрегируем\n",
    "    agg = df_moves.groupby(\"GameID\").agg(\n",
    "        \n",
    "        NBlunbers=(\"IsBlunder\", \"sum\"),\n",
    "        NOkayMoves=(\"IsOkayMove\", \"sum\"),\n",
    "        \n",
    "        MeanBlunbers=(\"IsBlunder\", \"mean\"),\n",
    "        MeanMistakes=(\"IsMistake\", \"mean\"),\n",
    "        MeanBadMoves=(\"IsBadMove\", \"mean\"),\n",
    "        MeanOkayMoves=(\"IsOkayMove\", \"mean\"),\n",
    "        \n",
    "        MoveNumberBlunder=(\"MoveNumberBlunder\", \"mean\"),\n",
    "        MoveNumberMistake=(\"MoveNumberMistake\", \"mean\"),\n",
    "        MoveNumberBadMove=(\"MoveNumberBadMove\", \"mean\"),\n",
    "        \n",
    "        MeanAbsEval=(\"AbsEval\", \"mean\"),\n",
    "        EvalStd=(\"EvalCentipawn\", \"std\"),\n",
    "        NEqualGame300=(\"IsEqualGame300\", \"sum\"),\n",
    "        MeanLostGame600=(\"IsLostGame600\", \"mean\"),\n",
    "        \n",
    "        MeanHasMate=(\"HasMate\", \"mean\"),\n",
    "        \n",
    "        MeanCentipawnLoss=(\"CentipawnLoss\", \"mean\"),\n",
    "        StartCentipawnLoss15=(\"StartCentipawnLoss15\", \"mean\"),        \n",
    "        \n",
    "        MeanChecks=(\"IsCheck\", \"mean\"),\n",
    "        \n",
    "        KnightCentipawnLoss=(\"KnightCentipawnLoss\", \"mean\"),\n",
    "        PawnCentipawnLoss=(\"PawnCentipawnLoss\", \"mean\"),\n",
    "        \n",
    "        NMoves=(\"MoveNumber\", \"max\"),\n",
    "        \n",
    "        NBestMoves=(\"IsBestMove\", \"sum\"),\n",
    "        MeanBestMoves=(\"IsBestMove\", \"mean\")\n",
    "    )\n",
    "    \n",
    "    # NaN могут быть, если особых ходов не было в партии\n",
    "    # (например, ходов конем в KnightCentipawnLoss)\n",
    "    # Поэтому пропуски заменяем нулями    \n",
    "    agg = agg.fillna(0)\n",
    "    \n",
    "    get_mean_elo = lambda df: (df[\"WhiteElo\"] + df[\"BlackElo\"]) // 2\n",
    "    \n",
    "    df_features = (\n",
    "        df_games\n",
    "        .assign(Elo=get_mean_elo)\n",
    "        .loc[:, [\"GameID\", \"Elo\", \"Opening\", \"ECO\"]]\n",
    "    )\n",
    "\n",
    "    df_features = df_features.merge(agg, on=\"GameID\")\n",
    "    \n",
    "    return df_features"
   ]
  },
  {
   "cell_type": "code",
   "execution_count": null,
   "id": "fd14b0dd",
   "metadata": {},
   "outputs": [],
   "source": []
  },
  {
   "cell_type": "code",
   "execution_count": 5,
   "id": "a6a8f725",
   "metadata": {
    "scrolled": false
   },
   "outputs": [
    {
     "name": "stdout",
     "output_type": "stream",
     "text": [
      "#1\n",
      "#2\n",
      "#3\n",
      "#4\n",
      "#5\n",
      "#6\n",
      "#7\n",
      "#8\n",
      "#9\n",
      "#10\n",
      "#11\n",
      "#12\n",
      "#13\n",
      "#14\n",
      "#15\n",
      "#16\n",
      "#17\n",
      "#18\n",
      "#19\n",
      "#20\n",
      "#21\n",
      "#22\n",
      "#23\n",
      "#24\n",
      "#25\n"
     ]
    }
   ],
   "source": [
    "n_batches = 25\n",
    "for batch in range(1, n_batches + 1):\n",
    "    \n",
    "    df_games = pd.read_parquet(f\"parsed/batch_{batch}_games.parquet\")\n",
    "    df_moves = pd.read_parquet(f\"parsed/batch_{batch}_moves.parquet\")\n",
    "\n",
    "    df_features = generate_features(df_games, df_moves)\n",
    "\n",
    "    df_features.to_parquet(f\"aggregated/batch_{batch}.parquet\")\n",
    "    \n",
    "    print(f\"#{batch}\")"
   ]
  },
  {
   "cell_type": "code",
   "execution_count": null,
   "id": "a8dfc2ec",
   "metadata": {},
   "outputs": [],
   "source": []
  },
  {
   "cell_type": "code",
   "execution_count": null,
   "id": "4126d819",
   "metadata": {},
   "outputs": [],
   "source": []
  },
  {
   "cell_type": "markdown",
   "id": "9f000de1",
   "metadata": {},
   "source": [
    "## Корзина"
   ]
  },
  {
   "cell_type": "code",
   "execution_count": null,
   "id": "9f8d5f5d",
   "metadata": {},
   "outputs": [],
   "source": [
    "# Отфильтрованные признаки"
   ]
  },
  {
   "cell_type": "code",
   "execution_count": null,
   "id": "ae3c90ab",
   "metadata": {},
   "outputs": [],
   "source": [
    "# def get_quntile(a):\n",
    "#     return lambda x: np.quantile(x, a)"
   ]
  },
  {
   "cell_type": "code",
   "execution_count": null,
   "id": "d72fbd5c",
   "metadata": {},
   "outputs": [],
   "source": [
    "# df_moves[\"IsInaccuracy\"] = df_moves[\"Move\"].str.endswith(\"?!\")\n",
    "# df_moves[\"IsBlunder\"] = df_moves[\"Move\"].str.endswith(\"??\")\n",
    "# df_moves[\"IsMistake\"] = df_moves[\"Move\"].str.endswith(\"?\") & (~df_moves[\"Move\"].str.endswith(\"??\"))\n",
    "# df_moves[\"IsWrongMove\"] = df_moves[\"IsInaccuracy\"] | df_moves[\"IsBlunder\"] | df_moves[\"IsMistake\"]\n",
    "# df_moves[\"IsBadMove\"] = df_moves[\"IsBlunder\"] | df_moves[\"IsMistake\"]\n",
    "# df_moves[\"IsOkayMove\"] = ~(df_moves[\"IsInaccuracy\"] | df_moves[\"IsBlunder\"] | df_moves[\"IsMistake\"])\n",
    "\n",
    "# NInaccuracies=(\"IsInaccuracy\", \"sum\"),\n",
    "# NBlunbers=(\"IsBlunder\", \"sum\"),\n",
    "# NMistakes=(\"IsMistake\", \"sum\"),\n",
    "# NWrongMoves=(\"IsWrongMove\", \"sum\"),\n",
    "# NBadMoves=(\"IsBadMove\", \"sum\"),\n",
    "# NOkayMoves=(\"IsOkayMove\", \"sum\"),\n",
    "\n",
    "# MeanInaccuracies=(\"IsInaccuracy\", \"mean\"),\n",
    "# MeanBlunbers=(\"IsBlunder\", \"mean\"),\n",
    "# MeanMistakes=(\"IsMistake\", \"mean\"),\n",
    "# MeanWrongMoves=(\"IsWrongMove\", \"mean\"),\n",
    "# MeanBadMoves=(\"IsBadMove\", \"mean\"),\n",
    "# MeanOkayMoves=(\"IsOkayMove\", \"mean\")"
   ]
  },
  {
   "cell_type": "code",
   "execution_count": null,
   "id": "5dbaf0f6",
   "metadata": {},
   "outputs": [],
   "source": [
    "# df_moves[\"MoveNumberInaccuracy\"] = where(df_moves[\"IsInaccuracy\"], df_moves[\"MoveNumber\"])\n",
    "# df_moves[\"MoveNumberBlunder\"] = where(df_moves[\"IsBlunder\"], df_moves[\"MoveNumber\"])\n",
    "# df_moves[\"MoveNumberMistake\"] = where(df_moves[\"IsMistake\"], df_moves[\"MoveNumber\"])\n",
    "# df_moves[\"MoveNumberWrongMove\"] = where(df_moves[\"IsWrongMove\"], df_moves[\"MoveNumber\"])\n",
    "# df_moves[\"MoveNumberBadMove\"] = where(df_moves[\"IsBadMove\"], df_moves[\"MoveNumber\"])\n",
    "# df_moves[\"MoveNumberOkayMove\"] = where(df_moves[\"IsOkayMove\"], df_moves[\"MoveNumber\"])\n",
    "\n",
    "# MoveNumberInaccuracy=(\"MoveNumberInaccuracy\", \"mean\"),\n",
    "# MoveNumberBlunder=(\"MoveNumberBlunder\", \"mean\"),\n",
    "# MoveNumberMistake=(\"MoveNumberMistake\", \"mean\"),\n",
    "# MoveNumberWrongMove=(\"MoveNumberWrongMove\", \"mean\"),\n",
    "# MoveNumberBadMove=(\"MoveNumberBadMove\", \"mean\"),\n",
    "# MoveNumberOkayMove=(\"MoveNumberOkayMove\", \"mean\"),"
   ]
  },
  {
   "cell_type": "code",
   "execution_count": null,
   "id": "6ea7da04",
   "metadata": {},
   "outputs": [],
   "source": [
    "# df_moves[\"AbsEval\"] = df_moves[\"EvalCentipawn\"].abs()\n",
    "# df_moves[\"IsEqualGame100\"] = df_moves[\"EvalCentipawn\"].abs() <= 100\n",
    "# df_moves[\"IsEqualGame200\"] = df_moves[\"EvalCentipawn\"].abs() <= 200\n",
    "# df_moves[\"IsEqualGame300\"] = df_moves[\"EvalCentipawn\"].abs() <= 300\n",
    "\n",
    "# MeanAbsEval=(\"AbsEval\", \"mean\"),\n",
    "# NEqualGame100=(\"IsEqualGame100\", \"sum\"),\n",
    "# NEqualGame200=(\"IsEqualGame200\", \"sum\"),\n",
    "# NEqualGame300=(\"IsEqualGame300\", \"sum\"),\n",
    "# MeanEqualGame100=(\"IsEqualGame100\", \"mean\"),\n",
    "# MeanEqualGame200=(\"IsEqualGame200\", \"mean\"),\n",
    "# MeanEqualGame300=(\"IsEqualGame300\", \"mean\"),"
   ]
  },
  {
   "cell_type": "code",
   "execution_count": null,
   "id": "8e8efcbf",
   "metadata": {},
   "outputs": [],
   "source": [
    "# df_moves[\"IsLostGame800\"] = df_moves[\"EvalCentipawn\"].abs() >= 800\n",
    "# df_moves[\"IsLostGame700\"] = df_moves[\"EvalCentipawn\"].abs() >= 700\n",
    "# df_moves[\"IsLostGame600\"] = df_moves[\"EvalCentipawn\"].abs() >= 600\n",
    "\n",
    "# NLostGame800=(\"IsLostGame800\", \"sum\"),\n",
    "# NLostGame700=(\"IsLostGame700\", \"sum\"),\n",
    "# NLostGame600=(\"IsLostGame600\", \"sum\"),\n",
    "# MeanLostGame800=(\"IsLostGame800\", \"mean\"),\n",
    "# MeanLostGame700=(\"IsLostGame700\", \"mean\"),\n",
    "# MeanLostGame600=(\"IsLostGame600\", \"mean\"),"
   ]
  },
  {
   "cell_type": "code",
   "execution_count": null,
   "id": "e137e40d",
   "metadata": {},
   "outputs": [],
   "source": [
    "# df_moves[\"IsCheck\"] = df_moves[\"Move\"].str.contains(\"+\", regex=False)\n",
    "# df_moves[\"IsCapture\"] = df_moves[\"Move\"].str.contains(\"x\", regex=False)\n",
    "# NChecks=(\"IsCheck\", \"sum\")\n",
    "# NCaptures=(\"IsCapture\", \"sum\"),\n",
    "# MeanCaptures=(\"IsCapture\", \"mean\")"
   ]
  },
  {
   "cell_type": "code",
   "execution_count": null,
   "id": "7500b488",
   "metadata": {},
   "outputs": [],
   "source": [
    "# df_moves[\"Piece\"] = df_moves[\"Move\"].str[0]\n",
    "# df_moves[\"QueenCentipawnLoss\"] = where(df_moves[\"Piece\"] == \"Q\", df_moves[\"CentipawnLoss\"])\n",
    "# df_moves[\"RookCentipawnLoss\"] = where(df_moves[\"Piece\"] == \"R\", df_moves[\"CentipawnLoss\"])\n",
    "# df_moves[\"KnightCentipawnLoss\"] = where(df_moves[\"Piece\"] == \"N\", df_moves[\"CentipawnLoss\"])\n",
    "# df_moves[\"BishopCentipawnLoss\"] = where(df_moves[\"Piece\"] == \"B\", df_moves[\"CentipawnLoss\"])\n",
    "# df_moves[\"CheckCentipawnLoss\"] = where(df_moves[\"IsCheck\"], df_moves[\"CentipawnLoss\"])\n",
    "# df_moves[\"CaptureCentipawnLoss\"] = where(df_moves[\"IsCheck\"], df_moves[\"CentipawnLoss\"])\n",
    "\n",
    "# QueenCentipawnLoss=(\"QueenCentipawnLoss\", \"mean\"),\n",
    "# RookCentipawnLoss=(\"RookCentipawnLoss\", \"mean\"),\n",
    "# KnightCentipawnLoss=(\"KnightCentipawnLoss\", \"mean\"),\n",
    "# BishopCentipawnLoss=(\"BishopCentipawnLoss\", \"mean\"),\n",
    "# CheckCentipawnLoss=(\"CheckCentipawnLoss\", \"mean\"),\n",
    "# CaptureCentipawnLoss=(\"CaptureCentipawnLoss\", \"mean\"),"
   ]
  },
  {
   "cell_type": "code",
   "execution_count": null,
   "id": "3798d279",
   "metadata": {},
   "outputs": [],
   "source": [
    "# df_moves[\"EarlyCentipawnLoss10\"] = where(df_moves[\"MoveNumber\"] <= 10, df_moves[\"CentipawnLoss\"])\n",
    "# df_moves[\"EarlyCentipawnLoss20\"] = where(df_moves[\"MoveNumber\"] <= 20, df_moves[\"CentipawnLoss\"])\n",
    "# df_moves[\"EarlyCentipawnLoss30\"] = where(df_moves[\"MoveNumber\"] <= 30, df_moves[\"CentipawnLoss\"])\n",
    "# df_moves[\"EarlyCentipawnLoss40\"] = where(df_moves[\"MoveNumber\"] <= 40, df_moves[\"CentipawnLoss\"])\n",
    "# df_moves[\"EarlyCentipawnLoss50\"] = where(df_moves[\"MoveNumber\"] <= 50, df_moves[\"CentipawnLoss\"])\n",
    "# df_moves[\"EarlyCentipawnLoss60\"] = where(df_moves[\"MoveNumber\"] <= 60, df_moves[\"CentipawnLoss\"])\n",
    "\n",
    "# EarlyCentipawnLoss30=(\"EarlyCentipawnLoss30\", \"mean\"),\n",
    "# EarlyCentipawnLoss40=(\"EarlyCentipawnLoss40\", \"mean\"),\n",
    "# EarlyCentipawnLoss50=(\"EarlyCentipawnLoss50\", \"mean\"),\n",
    "# EarlyCentipawnLoss60=(\"EarlyCentipawnLoss60\", \"mean\"),"
   ]
  },
  {
   "cell_type": "code",
   "execution_count": null,
   "id": "a122a714",
   "metadata": {},
   "outputs": [],
   "source": [
    "# df_moves[\"EarlyCentipawnLoss5\"] = where(df_moves[\"MoveNumber\"] <= 5, df_moves[\"CentipawnLoss\"])\n",
    "# df_moves[\"EarlyCentipawnLoss10\"] = where(df_moves[\"MoveNumber\"] <= 10, df_moves[\"CentipawnLoss\"])\n",
    "# df_moves[\"EarlyCentipawnLoss15\"] = where(df_moves[\"MoveNumber\"] <= 15, df_moves[\"CentipawnLoss\"])\n",
    "# df_moves[\"MiddleCentipawnLoss1020\"] = where((df_moves[\"MoveNumber\"] > 10) & (df_moves[\"MoveNumber\"] <= 20), df_moves[\"CentipawnLoss\"])\n",
    "\n",
    "# EarlyCentipawnLoss10=(\"EarlyCentipawnLoss10\", \"mean\"),\n",
    "# MiddleCentipawnLoss1020=(\"MiddleCentipawnLoss1020\", \"mean\"),\n",
    "# EarlyCentipawnLoss5=(\"EarlyCentipawnLoss5\", \"mean\"),\n",
    "# EarlyCentipawnLoss15=(\"EarlyCentipawnLoss15\", \"mean\"),   "
   ]
  },
  {
   "cell_type": "code",
   "execution_count": null,
   "id": "7c9ecc6a",
   "metadata": {},
   "outputs": [],
   "source": []
  },
  {
   "cell_type": "code",
   "execution_count": null,
   "id": "eb2fcc88",
   "metadata": {},
   "outputs": [],
   "source": []
  }
 ],
 "metadata": {
  "kernelspec": {
   "display_name": "Python 3 (ipykernel)",
   "language": "python",
   "name": "python3"
  },
  "language_info": {
   "codemirror_mode": {
    "name": "ipython",
    "version": 3
   },
   "file_extension": ".py",
   "mimetype": "text/x-python",
   "name": "python",
   "nbconvert_exporter": "python",
   "pygments_lexer": "ipython3",
   "version": "3.9.13"
  }
 },
 "nbformat": 4,
 "nbformat_minor": 5
}
