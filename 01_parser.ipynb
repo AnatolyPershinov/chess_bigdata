{
 "cells": [
  {
   "cell_type": "code",
   "execution_count": 1,
   "id": "8e8d331e",
   "metadata": {},
   "outputs": [],
   "source": [
    "import numpy as np\n",
    "import pandas as pd\n",
    "import plotly.express as px\n",
    "\n",
    "from os.path import getsize"
   ]
  },
  {
   "cell_type": "markdown",
   "id": "62b3eeb5",
   "metadata": {},
   "source": [
    "## Функции для парсинга"
   ]
  },
  {
   "cell_type": "code",
   "execution_count": 2,
   "id": "a32c36f3",
   "metadata": {},
   "outputs": [],
   "source": [
    "def get_next_analysed_game():\n",
    "    # Пока не найдем игру с анализом\n",
    "    while True:\n",
    "        # Записываем строки игры\n",
    "        buffer = []\n",
    "        while True:\n",
    "            line = f.readline()\n",
    "\n",
    "            # Пустые строки не нужны\n",
    "            if line == \"\\n\":\n",
    "                continue\n",
    "\n",
    "            buffer.append(line)\n",
    "\n",
    "            # Ходы идут последней строкой в игре\n",
    "            # и всегда начинаются с \"1.\"\n",
    "            if line.startswith(\"1.\"):\n",
    "                break\n",
    "                \n",
    "        # Если есть анализ - берем\n",
    "        if (\"%eval\" in line):\n",
    "            return buffer"
   ]
  },
  {
   "cell_type": "code",
   "execution_count": 3,
   "id": "8af25609",
   "metadata": {},
   "outputs": [],
   "source": [
    "def params_to_dict(str_list):\n",
    "    \"\"\"\n",
    "    Принимает строки в виде\n",
    "    [key \"value\"]\n",
    "    И переводит их в словарь\n",
    "    https://en.wikipedia.org/wiki/Portable_Game_Notation\n",
    "    \"\"\"\n",
    "    return {\n",
    "        a: b.strip('\"') \n",
    "        for a, b in [\n",
    "            i.strip(\"\\n\").strip(\"[]\").split(\" \", 1) \n",
    "            for i in str_list\n",
    "        ]\n",
    "    }"
   ]
  },
  {
   "cell_type": "code",
   "execution_count": 4,
   "id": "65d1d36e",
   "metadata": {},
   "outputs": [],
   "source": [
    "def moves_to_df(moves):\n",
    "    s = moves.replace(\"[\", \"\").replace(\"]\", \"\")\n",
    "    s = s.split(\" \")\n",
    "    s = s[:-1]\n",
    "    \n",
    "    # Если последний ход - мат, для него нет оценки позиции (игра окончена)\n",
    "    # Поэтому слайсы сдвигаются, время не в той колонке\n",
    "    # Чтобы исправить, чуть подправим в конце\n",
    "    if len(s) % 8 != 0:\n",
    "        s.append(s[-2])\n",
    "        s[-3] = \"#0\"\n",
    "\n",
    "    df = pd.DataFrame.from_dict({\n",
    "        \"Move\": s[1::8],\n",
    "        \"Eval\": s[4::8],\n",
    "        \"Clock\": s[6::8]\n",
    "    }, orient=\"index\").transpose()\n",
    "    # orient нужен, если будут списки разной длины\n",
    "    \n",
    "    # Добавим номер хода и сторону\n",
    "    df[\"MoveNumber\"] = (df.index // 2) + 1\n",
    "    df[\"MoveSide\"] = (df.index % 2)\n",
    "    \n",
    "    # Анализ доступен только для первых 200 ходов \n",
    "    # Строчки без него не нужны\n",
    "    df = df.head(200)\n",
    "\n",
    "    return df"
   ]
  },
  {
   "cell_type": "code",
   "execution_count": 5,
   "id": "3d0a3b69",
   "metadata": {},
   "outputs": [],
   "source": [
    "def get_and_parse_next_analysed_game():\n",
    "    while True:\n",
    "        data = get_next_analysed_game()\n",
    "\n",
    "        game = params_to_dict(data[:-1])\n",
    "        # Отфильтруем по времени сразу, чтобы не парсить ходы\n",
    "        if game[\"TimeControl\"].split(\"+\")[0] not in [\"600\", \"900\"]:\n",
    "            continue\n",
    "\n",
    "        return (\n",
    "            game, \n",
    "            moves_to_df(data[-1])\n",
    "        )"
   ]
  },
  {
   "cell_type": "code",
   "execution_count": 6,
   "id": "5ed5800f",
   "metadata": {},
   "outputs": [],
   "source": [
    "def get_two_dfs(size=10_000):\n",
    "    games_list = []\n",
    "    moves_list = []\n",
    "    \n",
    "    for i in range(size):\n",
    "        \n",
    "        try:\n",
    "            a, m = get_and_parse_next_analysed_game()\n",
    "        except:\n",
    "            continue\n",
    "\n",
    "        game_id = a[\"Site\"].split(\"/\")[-1]\n",
    "        a[\"GameID\"] = game_id\n",
    "        m[\"GameID\"] = game_id\n",
    "\n",
    "        games_list.append(a)\n",
    "        moves_list.append(m)\n",
    "        \n",
    "    return (\n",
    "        pd.DataFrame(games_list),\n",
    "        pd.concat(moves_list)\n",
    "    )"
   ]
  },
  {
   "cell_type": "code",
   "execution_count": null,
   "id": "003c1f0a",
   "metadata": {},
   "outputs": [],
   "source": []
  },
  {
   "cell_type": "markdown",
   "id": "86d01d57",
   "metadata": {},
   "source": [
    "## Запускаем парсинг"
   ]
  },
  {
   "cell_type": "code",
   "execution_count": 10,
   "id": "1e87d641",
   "metadata": {},
   "outputs": [
    {
     "name": "stdout",
     "output_type": "stream",
     "text": [
      "PGN file size (bytes): 247,668,460,068\n"
     ]
    }
   ],
   "source": [
    "PGN_FILE = \"pgn/lichess_db_standard_rated_2023-03.pgn\"\n",
    "print(f\"PGN file size (bytes): {getsize(PGN_FILE):,}\")\n",
    "\n",
    "f = open(PGN_FILE, mode=\"r\")\n",
    "# OFFSET = 0\n",
    "# f.seek(OFFSET)\n",
    "\n",
    "# Прочитаем файл до начала следующей партии\n",
    "# while True:\n",
    "#     line = f.readline()\n",
    "#     if line.startswith(\"1.\"):\n",
    "#         break"
   ]
  },
  {
   "cell_type": "code",
   "execution_count": null,
   "id": "dd26e854",
   "metadata": {},
   "outputs": [],
   "source": []
  },
  {
   "cell_type": "code",
   "execution_count": null,
   "id": "167516cc",
   "metadata": {},
   "outputs": [],
   "source": [
    "batch_size = 10_000\n",
    "n_batches = 25"
   ]
  },
  {
   "cell_type": "code",
   "execution_count": null,
   "id": "258e2e52",
   "metadata": {
    "scrolled": false
   },
   "outputs": [],
   "source": [
    "for batch in range(1, n_batches + 1):\n",
    "\n",
    "    df_games, df_moves = get_two_dfs(batch_size)\n",
    "\n",
    "    df_games = df_games[[\n",
    "        \"GameID\",\n",
    "        \"Result\",\n",
    "        \"WhiteElo\",\n",
    "        \"BlackElo\",\n",
    "        \"WhiteRatingDiff\",\n",
    "        \"BlackRatingDiff\",\n",
    "        \"ECO\",\n",
    "        \"Opening\",\n",
    "        \"TimeControl\",\n",
    "        \"Termination\"\n",
    "    ]]\n",
    "\n",
    "    df_games[\"WhiteElo\"] = df_games[\"WhiteElo\"].astype(int)\n",
    "    df_games[\"BlackElo\"] = df_games[\"BlackElo\"].astype(int)\n",
    "\n",
    "    df_games = df_games[(\n",
    "        df_games[\"WhiteRatingDiff\"].notna() & \n",
    "        df_games[\"BlackRatingDiff\"].notna()\n",
    "    )]\n",
    "\n",
    "    df_games[\"WhiteRatingDiff\"] = df_games[\"WhiteRatingDiff\"].astype(int)\n",
    "    df_games[\"BlackRatingDiff\"] = df_games[\"BlackRatingDiff\"].astype(int)\n",
    "    \n",
    "    # Берем только игры с небольшой разницей в рейтинге\n",
    "    df_games = df_games[\n",
    "        (df_games[\"WhiteRatingDiff\"].astype(float).abs() <= 20) &\n",
    "        (df_games[\"BlackRatingDiff\"].astype(float).abs() <= 20) &\n",
    "        ((df_games[\"WhiteElo\"] - df_games[\"BlackElo\"]).abs() <= 200)\n",
    "    ]\n",
    "    \n",
    "    # Отфильтруем, чтобы id в df_games и df_moves содержали одинаковые id\n",
    "    ids = set(df_games[\"GameID\"]) & set(df_moves[\"GameID\"])\n",
    "    df_games = df_games[ df_games[\"GameID\"].isin(ids) ]\n",
    "    df_moves = df_moves[ df_moves[\"GameID\"].isin(ids) ]\n",
    "    # assert set(df_games[\"GameID\"]) == set(df_moves[\"GameID\"])\n",
    "\n",
    "    df_games.to_parquet(f\"parsed/batch_{batch}_games.parquet\")\n",
    "    df_moves.to_parquet(f\"parsed/batch_{batch}_moves.parquet\")\n",
    "\n",
    "    print(f\"#{batch}\")"
   ]
  },
  {
   "cell_type": "code",
   "execution_count": null,
   "id": "576bd3ae",
   "metadata": {},
   "outputs": [],
   "source": [
    "print(f\"Last cursor position (bytes): {f.tell():,}\")"
   ]
  },
  {
   "cell_type": "code",
   "execution_count": null,
   "id": "6ac8f28d",
   "metadata": {},
   "outputs": [],
   "source": [
    "# Last cursor position (bytes): 21,612,755,641"
   ]
  },
  {
   "cell_type": "code",
   "execution_count": null,
   "id": "d4caf51b",
   "metadata": {},
   "outputs": [],
   "source": []
  },
  {
   "cell_type": "code",
   "execution_count": null,
   "id": "01f72ee7",
   "metadata": {},
   "outputs": [],
   "source": []
  },
  {
   "cell_type": "code",
   "execution_count": null,
   "id": "4cedfcd2",
   "metadata": {},
   "outputs": [],
   "source": []
  },
  {
   "cell_type": "code",
   "execution_count": null,
   "id": "fd1eebf9",
   "metadata": {},
   "outputs": [],
   "source": []
  }
 ],
 "metadata": {
  "kernelspec": {
   "display_name": "Python 3 (ipykernel)",
   "language": "python",
   "name": "python3"
  },
  "language_info": {
   "codemirror_mode": {
    "name": "ipython",
    "version": 3
   },
   "file_extension": ".py",
   "mimetype": "text/x-python",
   "name": "python",
   "nbconvert_exporter": "python",
   "pygments_lexer": "ipython3",
   "version": "3.9.13"
  }
 },
 "nbformat": 4,
 "nbformat_minor": 5
}
